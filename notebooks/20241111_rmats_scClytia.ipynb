{
 "cells": [
  {
   "cell_type": "markdown",
   "id": "9e519a5d-12a1-4cfb-ad92-ed16bad81eda",
   "metadata": {},
   "source": [
    "## **Get fastq files for single-cell clytia data**"
   ]
  },
  {
   "cell_type": "code",
   "execution_count": 1,
   "id": "ba23151d-b5cf-48ff-b083-06bc4ac8a7c3",
   "metadata": {},
   "outputs": [],
   "source": [
    "import requests\n",
    "from tqdm import tnrange, tqdm_notebook"
   ]
  },
  {
   "cell_type": "code",
   "execution_count": 2,
   "id": "53645b8b-30b9-4252-b144-d4e0f52aa5fe",
   "metadata": {},
   "outputs": [],
   "source": [
    "# Get doi links for all Starvation cDNA fastq.gz files\n",
    "starvFiles = []\n",
    "dois = ['10.22002/D1.1840','10.22002/D1.1841','10.22002/D1.1842','10.22002/D1.1843',\n",
    "        '10.22002/D1.1844','10.22002/D1.1845','10.22002/D1.1846','10.22002/D1.1847',\n",
    "        '10.22002/D1.1848','10.22002/D1.1849','10.22002/D1.1850','10.22002/D1.1851',\n",
    "        '10.22002/D1.1852','10.22002/D1.1853','10.22002/D1.1854','10.22002/D1.1855'] #16 doi numbers\n",
    "for doi in dois:\n",
    "  url = 'https://api.datacite.org/dois/'+doi+'/media'\n",
    "  r = requests.get(url).json()\n",
    "  netcdf_url = r['data'][0]['attributes']['url']\n",
    "\n",
    "  starvFiles += [netcdf_url]"
   ]
  },
  {
   "cell_type": "code",
   "execution_count": 5,
   "id": "eadd4646-5040-4de5-86c5-d60d6ec3e804",
   "metadata": {},
   "outputs": [],
   "source": [
    "with open('/home/tchari/clytia_alt_splice/starvFile.txt', 'w') as f:\n",
    "    for line in starvFiles:\n",
    "        f.write(f\"{line}\\n\")"
   ]
  },
  {
   "cell_type": "code",
   "execution_count": null,
   "id": "b7facca6-5aaf-470a-bee1-812065b95827",
   "metadata": {},
   "outputs": [],
   "source": []
  },
  {
   "cell_type": "code",
   "execution_count": 6,
   "id": "dd5cf8c9-4df3-4378-8691-56cfe9ba00f3",
   "metadata": {},
   "outputs": [],
   "source": [
    "# Get doi links for all Stimulation cDNA fastq.gz files\n",
    "stimFiles = []\n",
    "dois = ['10.22002/D1.1860','10.22002/D1.1863','10.22002/D1.1864','10.22002/D1.1865',\n",
    "        '10.22002/D1.1866','10.22002/D1.1868','10.22002/D1.1870','10.22002/D1.1871'] #8 numbers\n",
    "for doi in dois:\n",
    "  url = 'https://api.datacite.org/dois/'+doi+'/media'\n",
    "  r = requests.get(url).json()\n",
    "  netcdf_url = r['data'][0]['attributes']['url']\n",
    "\n",
    "  stimFiles += [netcdf_url]"
   ]
  },
  {
   "cell_type": "code",
   "execution_count": 7,
   "id": "79b8fb7c-d49a-49ef-bbfa-0c8cca90673c",
   "metadata": {},
   "outputs": [],
   "source": [
    "with open('/home/tchari/clytia_alt_splice/stimFile.txt', 'w') as f:\n",
    "    for line in stimFiles:\n",
    "        f.write(f\"{line}\\n\")"
   ]
  },
  {
   "cell_type": "code",
   "execution_count": null,
   "id": "d2d13225-f85d-40af-9e36-c091d509b344",
   "metadata": {},
   "outputs": [],
   "source": []
  },
  {
   "cell_type": "markdown",
   "id": "247fce61-3fed-4636-9c4a-826f9297c535",
   "metadata": {},
   "source": [
    "**Save cell barcodes for desired animals/conditions**"
   ]
  },
  {
   "cell_type": "code",
   "execution_count": 8,
   "id": "cdd2def9-691c-4fca-ad7f-c9e392cc2309",
   "metadata": {},
   "outputs": [],
   "source": [
    "\n",
    "def download_file(doi,ext):\n",
    "    url = 'https://api.datacite.org/dois/'+doi+'/media'\n",
    "    r = requests.get(url).json()\n",
    "    netcdf_url = r['data'][0]['attributes']['url']\n",
    "    r = requests.get(netcdf_url,stream=True)\n",
    "    #Set file name\n",
    "    fname = doi.split('/')[-1]+ext\n",
    "    #Download file with progress bar\n",
    "    if r.status_code == 403:\n",
    "        print(\"File Unavailable\")\n",
    "    if 'content-length' not in r.headers:\n",
    "        print(\"Did not get file\")\n",
    "    else:\n",
    "        with open(fname, 'wb') as f:\n",
    "            total_length = int(r.headers.get('content-length'))\n",
    "            pbar = tnrange(int(total_length/1024), unit=\"B\")\n",
    "            for chunk in r.iter_content(chunk_size=1024):\n",
    "                if chunk:\n",
    "                    pbar.update()\n",
    "                    f.write(chunk)\n",
    "        return fname"
   ]
  },
  {
   "cell_type": "code",
   "execution_count": 10,
   "id": "94392e5d-e7b8-4963-abb0-cfad195bb5a2",
   "metadata": {},
   "outputs": [
    {
     "data": {
      "text/plain": [
       "'https://data.caltech.edu/records/mm6y6-g4569/files/fedStarved_withUMAPPaga.h5ad.gz'"
      ]
     },
     "execution_count": 10,
     "metadata": {},
     "output_type": "execute_result"
    }
   ],
   "source": [
    "\n",
    "#Kallisto bus clustered starvation data, h5ad\n",
    "url = 'https://api.datacite.org/dois/'+'10.22002/D1.1796'+'/media'\n",
    "r = requests.get(url).json()\n",
    "netcdf_url = r['data'][0]['attributes']['url']\n",
    "netcdf_url"
   ]
  },
  {
   "cell_type": "code",
   "execution_count": null,
   "id": "50e90a39-71ac-4fa4-897c-cf58fe20458f",
   "metadata": {},
   "outputs": [],
   "source": []
  },
  {
   "cell_type": "code",
   "execution_count": 12,
   "id": "4d2e8d6e-8268-4e20-8b7c-fc9b3b746d27",
   "metadata": {},
   "outputs": [
    {
     "data": {
      "text/plain": [
       "'https://data.caltech.edu/records/brzrq-t3789/files/bus_stim.h5ad'"
      ]
     },
     "execution_count": 12,
     "metadata": {},
     "output_type": "execute_result"
    }
   ],
   "source": [
    "#stimulation data\n",
    "url = 'https://api.datacite.org/dois/'+'10.22002/D1.1821'+'/media'\n",
    "r = requests.get(url).json()\n",
    "netcdf_url_stim = r['data'][0]['attributes']['url']\n",
    "netcdf_url_stim"
   ]
  },
  {
   "cell_type": "code",
   "execution_count": 2,
   "id": "355db3eb-89f8-46db-9a2f-2a38f8f893cc",
   "metadata": {},
   "outputs": [],
   "source": [
    "#Use wget --content-disposition to get these files ^\n"
   ]
  },
  {
   "cell_type": "code",
   "execution_count": 1,
   "id": "91a9df3c-8cba-4bc2-b810-265c25106cc1",
   "metadata": {},
   "outputs": [],
   "source": [
    "import anndata\n",
    "meta_path = '/home/tchari/clytia_alt_splice/metadata'"
   ]
  },
  {
   "cell_type": "code",
   "execution_count": null,
   "id": "25df83f1-88b1-44f0-b240-529a3728c322",
   "metadata": {},
   "outputs": [],
   "source": []
  },
  {
   "cell_type": "code",
   "execution_count": 12,
   "id": "098055d2-d6a6-458a-9f7a-0f4b52a3e054",
   "metadata": {},
   "outputs": [
    {
     "name": "stdout",
     "output_type": "stream",
     "text": [
      "AnnData object with n_obs × n_vars = 13673 × 8696\n",
      "    obs: 'batch', 'n_counts', 'n_countslog', 'louvain', 'leiden', 'orgID', 'fed', 'starved', 'fed_neighbor_score', 'cellRanger_louvain', 'annos', 'new_cellRanger_louvain', 'annosSub'\n",
      "    var: 'n_counts', 'mean', 'std'\n",
      "    uns: 'annosSub_colors', 'annos_colors', 'cellRanger_louvain_colors', 'cellRanger_louvain_sizes', \"dendrogram_['new_cellRanger_louvain']\", 'dendrogram_new_cellRanger_louvain', 'fed_colors', 'fed_neighbor_score_colors', 'leiden', 'leiden_colors', 'louvain', 'louvain_colors', 'neighbors', 'new_cellRanger_louvain_colors', 'orgID_colors', 'paga', 'pca', 'rank_genes_groups', 'umap'\n",
      "    obsm: 'X_nca', 'X_pca', 'X_tsne', 'X_umap'\n",
      "    varm: 'PCs'\n",
      "    obsp: 'connectivities', 'distances'\n",
      "AnnData object with n_obs × n_vars = 18921 × 10260\n",
      "    obs: 'batch', 'n_counts', 'n_countslog', 'louvain', 'condition', 'orgID', 'cellRanger_louvain', 'annos', 'annosSub'\n",
      "    var: 'n_counts', 'mean', 'std'\n",
      "    uns: 'cellRanger_louvain_colors', 'cellRanger_louvain_sizes', 'condition_colors', 'louvain', 'neighbors', 'paga', 'pca', 'umap'\n",
      "    obsm: 'X_pca', 'X_tsne', 'X_umap'\n",
      "    varm: 'PCs'\n",
      "    obsp: 'connectivities', 'distances'\n"
     ]
    }
   ],
   "source": [
    "#Save cell barcodes for fed/control, rep1 (starv)\n",
    "fs_adata = anndata.read_h5ad(meta_path+'/fedStarved_withUMAPPaga.h5ad')\n",
    "print(fs_adata)\n",
    "#If -1, remove + add to list _1to4, or -2 for _5to8\n",
    "fed_cells = list(fs_adata.obs_names[fs_adata.obs['fed'].isin(['True'])])\n",
    "fed_1to4 = []\n",
    "fed_5to8 = []\n",
    "for i in fed_cells:\n",
    "    if '-1' in i:\n",
    "        fed_1to4 += [i.replace('-1','')]\n",
    "    elif '-2' in i:\n",
    "        fed_5to8 += [i.replace('-2','')]\n",
    "    else:\n",
    "        print('no -1 or -2')\n",
    "\n",
    "\n",
    "\n",
    "\n",
    "#Save cell barcodes for SW/control, rep2 (stim)\n",
    "stim_adata = anndata.read_h5ad(meta_path+'/bus_stim.h5ad')\n",
    "print(stim_adata)\n",
    "\n",
    "#If -1, remove + add to list _1to2, or -2 for _3to4\n",
    "sw_cells = list(stim_adata.obs_names[stim_adata.obs['condition'].isin(['SW'])])\n",
    "sw_1to2 = []\n",
    "sw_3to4 = []\n",
    "for i in sw_cells:\n",
    "    if '-1' in i:\n",
    "        sw_1to2 += [i.replace('-1','')]\n",
    "    elif '-2' in i:\n",
    "        sw_3to4 += [i.replace('-2','')]\n",
    "    else:\n",
    "        print('no -1 or -2')\n",
    "    "
   ]
  },
  {
   "cell_type": "code",
   "execution_count": 16,
   "id": "d97d06ae-7019-4f2e-8352-464b615d900f",
   "metadata": {},
   "outputs": [],
   "source": [
    "with open('/home/tchari/clytia_alt_splice/metadata/fed_1to4.txt', 'w') as f:\n",
    "    for line in fed_1to4:\n",
    "        f.write(f\"{line}\\n\")\n",
    "with open('/home/tchari/clytia_alt_splice/metadata/fed_5to8.txt', 'w') as f:\n",
    "    for line in fed_5to8:\n",
    "        f.write(f\"{line}\\n\")\n",
    "\n",
    "with open('/home/tchari/clytia_alt_splice/metadata/sw_1to2.txt', 'w') as f:\n",
    "    for line in sw_1to2:\n",
    "        f.write(f\"{line}\\n\")\n",
    "\n",
    "with open('/home/tchari/clytia_alt_splice/metadata/sw_3to4.txt', 'w') as f:\n",
    "    for line in sw_3to4:\n",
    "        f.write(f\"{line}\\n\")"
   ]
  },
  {
   "cell_type": "code",
   "execution_count": null,
   "id": "e4a1af5b-95be-4402-8009-43863bc927c4",
   "metadata": {},
   "outputs": [],
   "source": []
  },
  {
   "cell_type": "code",
   "execution_count": 23,
   "id": "49c63336-253a-4d66-809f-00016e8272a5",
   "metadata": {},
   "outputs": [
    {
     "data": {
      "text/plain": [
       "544"
      ]
     },
     "execution_count": 23,
     "metadata": {},
     "output_type": "execute_result"
    }
   ],
   "source": []
  },
  {
   "cell_type": "code",
   "execution_count": 26,
   "id": "ce93a5ef-09cb-4b10-8fd6-99f1b52eebd6",
   "metadata": {},
   "outputs": [
    {
     "data": {
      "text/plain": [
       "orgID\n",
       "3    304\n",
       "1    273\n",
       "4    271\n",
       "5    270\n",
       "2    253\n",
       "Name: count, dtype: int64"
      ]
     },
     "execution_count": 26,
     "metadata": {},
     "output_type": "execute_result"
    }
   ],
   "source": [
    "fs_adata[fs_adata.obs['fed'].isin(['True']) & fs_adata.obs['annos'].isin(['Nematocyte'])].obs['orgID'].value_counts() #2,3 and 1,4"
   ]
  },
  {
   "cell_type": "code",
   "execution_count": 27,
   "id": "80b417a0-2519-434d-b550-ca45a24bb8b7",
   "metadata": {},
   "outputs": [],
   "source": [
    "#Save cell barcodes for nemato, half the individs, rep1 (starv)\n",
    "#Save cell barcodes for nemato, other half the individs, rep2 (starv)\n",
    "\n",
    "#If -1, remove + add to list _1to4, or -2 for _5to8\n",
    "nem_adata = fs_adata[fs_adata.obs['fed'].isin(['True']) & fs_adata.obs['annos'].isin(['Nematocyte'])]\n",
    "nem_23_cells = list(nem_adata.obs_names[nem_adata.obs['orgID'].isin(['2','3'])])\n",
    "nem_14_cells = list(nem_adata.obs_names[nem_adata.obs['orgID'].isin(['1','4'])])\n",
    "nem23_1to4 = []\n",
    "nem23_5to8 = []\n",
    "\n",
    "nem14_1to4 = []\n",
    "nem14_5to8 = []\n",
    "for i in nem_23_cells:\n",
    "    if '-1' in i:\n",
    "        nem23_1to4 += [i.replace('-1','')]\n",
    "    elif '-2' in i:\n",
    "        nem23_5to8 += [i.replace('-2','')]\n",
    "    else:\n",
    "        print('no -1 or -2')\n",
    "\n",
    "for i in nem_14_cells:\n",
    "    if '-1' in i:\n",
    "        nem14_1to4 += [i.replace('-1','')]\n",
    "    elif '-2' in i:\n",
    "        nem14_5to8 += [i.replace('-2','')]\n",
    "    else:\n",
    "        print('no -1 or -2')\n",
    "\n",
    "\n",
    "with open('/home/tchari/clytia_alt_splice/metadata/nem23_1to4.txt', 'w') as f:\n",
    "    for line in nem23_1to4:\n",
    "        f.write(f\"{line}\\n\")\n",
    "with open('/home/tchari/clytia_alt_splice/metadata/nem23_5to8.txt', 'w') as f:\n",
    "    for line in nem23_5to8:\n",
    "        f.write(f\"{line}\\n\")\n",
    "\n",
    "with open('/home/tchari/clytia_alt_splice/metadata/nem14_1to4.txt', 'w') as f:\n",
    "    for line in nem14_1to4:\n",
    "        f.write(f\"{line}\\n\")\n",
    "\n",
    "with open('/home/tchari/clytia_alt_splice/metadata/nem14_5to8.txt', 'w') as f:\n",
    "    for line in nem14_5to8:\n",
    "        f.write(f\"{line}\\n\")\n"
   ]
  },
  {
   "cell_type": "code",
   "execution_count": null,
   "id": "ad3d5dc4-b71e-4a2d-954d-988f65525035",
   "metadata": {},
   "outputs": [],
   "source": []
  },
  {
   "cell_type": "code",
   "execution_count": null,
   "id": "014190c0-0bd7-4432-9b5b-e8418fdf627c",
   "metadata": {},
   "outputs": [],
   "source": []
  },
  {
   "cell_type": "code",
   "execution_count": 32,
   "id": "32cba926-0a93-425c-84b7-c710846b21cd",
   "metadata": {},
   "outputs": [
    {
     "data": {
      "text/plain": [
       "orgID\n",
       "9     348\n",
       "7     317\n",
       "10    307\n",
       "8     260\n",
       "6     216\n",
       "Name: count, dtype: int64"
      ]
     },
     "execution_count": 32,
     "metadata": {},
     "output_type": "execute_result"
    }
   ],
   "source": [
    "#STARVED cells\n",
    "nem_adata = fs_adata[fs_adata.obs['starved'] & fs_adata.obs['annos'].isin(['Nematocyte'])]\n",
    "nem_adata.obs['orgID'].value_counts() #7,8 and 9,6"
   ]
  },
  {
   "cell_type": "code",
   "execution_count": 37,
   "id": "a96177d7-c872-401a-9460-32239981f797",
   "metadata": {},
   "outputs": [],
   "source": [
    "#Save cell barcodes for nemato, half the individs, rep1 (control)\n",
    "#Save cell barcodes for nemato, other half the individs, rep2 (control)\n",
    "\n",
    "#If -1, remove + add to list _1to4, or -2 for _5to8\n",
    "nem_23_cells = list(nem_adata.obs_names[nem_adata.obs['orgID'].isin(['7','8'])])\n",
    "nem_14_cells = list(nem_adata.obs_names[nem_adata.obs['orgID'].isin(['9','6'])])\n",
    "nem23_1to4 = []\n",
    "nem23_5to8 = []\n",
    "\n",
    "nem14_1to4 = []\n",
    "nem14_5to8 = []\n",
    "for i in nem_23_cells:\n",
    "    if '-1' in i:\n",
    "        nem23_1to4 += [i.replace('-1','')]\n",
    "    elif '-2' in i:\n",
    "        nem23_5to8 += [i.replace('-2','')]\n",
    "    else:\n",
    "        print('no -1 or -2')\n",
    "\n",
    "for i in nem_14_cells:\n",
    "    if '-1' in i:\n",
    "        nem14_1to4 += [i.replace('-1','')]\n",
    "    elif '-2' in i:\n",
    "        nem14_5to8 += [i.replace('-2','')]\n",
    "    else:\n",
    "        print('no -1 or -2')\n",
    "\n",
    "\n",
    "with open('/home/tchari/clytia_alt_splice/metadata/nem23_1to4_starv.txt', 'w') as f:\n",
    "    for line in nem23_1to4:\n",
    "        f.write(f\"{line}\\n\")\n",
    "with open('/home/tchari/clytia_alt_splice/metadata/nem23_5to8_starv.txt', 'w') as f:\n",
    "    for line in nem23_5to8:\n",
    "        f.write(f\"{line}\\n\")\n",
    "\n",
    "with open('/home/tchari/clytia_alt_splice/metadata/nem14_1to4_starv.txt', 'w') as f:\n",
    "    for line in nem14_1to4:\n",
    "        f.write(f\"{line}\\n\")\n",
    "\n",
    "with open('/home/tchari/clytia_alt_splice/metadata/nem14_5to8_starv.txt', 'w') as f:\n",
    "    for line in nem14_5to8:\n",
    "        f.write(f\"{line}\\n\")"
   ]
  },
  {
   "cell_type": "code",
   "execution_count": null,
   "id": "2a5b5d99-4ea3-41b6-8af2-3007a3b7382a",
   "metadata": {},
   "outputs": [],
   "source": []
  },
  {
   "cell_type": "code",
   "execution_count": null,
   "id": "24ee98fe-2234-4ba4-b911-3307a9862af6",
   "metadata": {},
   "outputs": [],
   "source": [
    "#Make .sh files for umi_tools\n",
    "#Make .sh files for rmats with fastqs"
   ]
  }
 ],
 "metadata": {
  "kernelspec": {
   "display_name": "Python 3 (ipykernel)",
   "language": "python",
   "name": "python3"
  },
  "language_info": {
   "codemirror_mode": {
    "name": "ipython",
    "version": 3
   },
   "file_extension": ".py",
   "mimetype": "text/x-python",
   "name": "python",
   "nbconvert_exporter": "python",
   "pygments_lexer": "ipython3",
   "version": "3.10.14"
  }
 },
 "nbformat": 4,
 "nbformat_minor": 5
}
